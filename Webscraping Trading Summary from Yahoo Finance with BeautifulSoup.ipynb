{
 "cells": [
  {
   "cell_type": "markdown",
   "id": "magnetic-roommate",
   "metadata": {},
   "source": [
    "### Scraping of the Trading Summary of Netflix, Inc. (NFLX) from Yahoo Finance."
   ]
  },
  {
   "cell_type": "code",
   "execution_count": 1,
   "id": "accredited-attention",
   "metadata": {},
   "outputs": [],
   "source": [
    "# importing the packages\n",
    "\n",
    "from bs4 import BeautifulSoup\n",
    "import requests\n",
    "import pandas as pd"
   ]
  },
  {
   "cell_type": "code",
   "execution_count": 3,
   "id": "incoming-publication",
   "metadata": {},
   "outputs": [],
   "source": [
    "# the link to the page is saved as a variable called url\n",
    "\n",
    "url = 'https://finance.yahoo.com/quote/NFLX'"
   ]
  },
  {
   "cell_type": "code",
   "execution_count": 4,
   "id": "green-television",
   "metadata": {},
   "outputs": [],
   "source": [
    "link = requests.get(url)"
   ]
  },
  {
   "cell_type": "code",
   "execution_count": 5,
   "id": "otherwise-romania",
   "metadata": {},
   "outputs": [],
   "source": [
    "soup = BeautifulSoup(link.text, 'html.parser')"
   ]
  },
  {
   "cell_type": "code",
   "execution_count": 6,
   "id": "coordinated-vault",
   "metadata": {},
   "outputs": [
    {
     "name": "stdout",
     "output_type": "stream",
     "text": [
      "Netflix, Inc. (NFLX) Stock Price, News, Quote & History - Yahoo Finance\n"
     ]
    }
   ],
   "source": [
    "# We can check to see the title of the page.\n",
    "\n",
    "print(soup.title.text)"
   ]
  },
  {
   "cell_type": "code",
   "execution_count": null,
   "id": "empirical-treasury",
   "metadata": {},
   "outputs": [],
   "source": []
  },
  {
   "cell_type": "markdown",
   "id": "loose-acoustic",
   "metadata": {},
   "source": [
    "After studying and inspecting the Summary page, it was noticed that there are three(3) tables on that page, two of which contains the trading summary we're looking for.\n",
    "\n",
    "So, we'll scrape the first table `table1` and get the data."
   ]
  },
  {
   "cell_type": "code",
   "execution_count": 7,
   "id": "magnetic-movie",
   "metadata": {},
   "outputs": [],
   "source": [
    "table1 = soup.find_all('table', {'class':'W(100%)'})[0]"
   ]
  },
  {
   "cell_type": "code",
   "execution_count": 8,
   "id": "published-consideration",
   "metadata": {},
   "outputs": [
    {
     "data": {
      "text/plain": [
       "<table class=\"W(100%)\" data-reactid=\"91\"><tbody data-reactid=\"92\"><tr class=\"Bxz(bb) Bdbw(1px) Bdbs(s) Bdc($seperatorColor) H(36px)\" data-reactid=\"93\"><td class=\"C($primaryColor) W(51%)\" data-reactid=\"94\"><span data-reactid=\"95\">Previous Close</span></td><td class=\"Ta(end) Fw(600) Lh(14px)\" data-reactid=\"96\" data-test=\"PREV_CLOSE-value\"><span class=\"Trsdu(0.3s)\" data-reactid=\"97\">588.55</span></td></tr><tr class=\"Bxz(bb) Bdbw(1px) Bdbs(s) Bdc($seperatorColor) H(36px)\" data-reactid=\"98\"><td class=\"C($primaryColor) W(51%)\" data-reactid=\"99\"><span data-reactid=\"100\">Open</span></td><td class=\"Ta(end) Fw(600) Lh(14px)\" data-reactid=\"101\" data-test=\"OPEN-value\"><span class=\"Trsdu(0.3s)\" data-reactid=\"102\">585.80</span></td></tr><tr class=\"Bxz(bb) Bdbw(1px) Bdbs(s) Bdc($seperatorColor) H(36px)\" data-reactid=\"103\"><td class=\"C($primaryColor) W(51%)\" data-reactid=\"104\"><span data-reactid=\"105\">Bid</span></td><td class=\"Ta(end) Fw(600) Lh(14px)\" data-reactid=\"106\" data-test=\"BID-value\"><span class=\"Trsdu(0.3s)\" data-reactid=\"107\">591.04 x 1000</span></td></tr><tr class=\"Bxz(bb) Bdbw(1px) Bdbs(s) Bdc($seperatorColor) H(36px)\" data-reactid=\"108\"><td class=\"C($primaryColor) W(51%)\" data-reactid=\"109\"><span data-reactid=\"110\">Ask</span></td><td class=\"Ta(end) Fw(600) Lh(14px)\" data-reactid=\"111\" data-test=\"ASK-value\"><span class=\"Trsdu(0.3s)\" data-reactid=\"112\">592.31 x 1300</span></td></tr><tr class=\"Bxz(bb) Bdbw(1px) Bdbs(s) Bdc($seperatorColor) H(36px)\" data-reactid=\"113\"><td class=\"C($primaryColor) W(51%)\" data-reactid=\"114\"><span data-reactid=\"115\">Day's Range</span></td><td class=\"Ta(end) Fw(600) Lh(14px)\" data-reactid=\"116\" data-test=\"DAYS_RANGE-value\">583.14 - 591.79</td></tr><tr class=\"Bxz(bb) Bdbw(1px) Bdbs(s) Bdc($seperatorColor) H(36px)\" data-reactid=\"117\"><td class=\"C($primaryColor) W(51%)\" data-reactid=\"118\"><span data-reactid=\"119\">52 Week Range</span></td><td class=\"Ta(end) Fw(600) Lh(14px)\" data-reactid=\"120\" data-test=\"FIFTY_TWO_WK_RANGE-value\">458.60 - 598.76</td></tr><tr class=\"Bxz(bb) Bdbw(1px) Bdbs(s) Bdc($seperatorColor) H(36px)\" data-reactid=\"121\"><td class=\"C($primaryColor) W(51%)\" data-reactid=\"122\"><span data-reactid=\"123\">Volume</span></td><td class=\"Ta(end) Fw(600) Lh(14px)\" data-reactid=\"124\" data-test=\"TD_VOLUME-value\"><span class=\"Trsdu(0.3s)\" data-reactid=\"125\">2,684,005</span></td></tr><tr class=\"Bxz(bb) Bdbw(1px) Bdbs(s) Bdc($seperatorColor) H(36px) Bdbw(0)!\" data-reactid=\"126\"><td class=\"C($primaryColor) W(51%)\" data-reactid=\"127\"><span data-reactid=\"128\">Avg. Volume</span></td><td class=\"Ta(end) Fw(600) Lh(14px)\" data-reactid=\"129\" data-test=\"AVERAGE_VOLUME_3MONTH-value\"><span class=\"Trsdu(0.3s)\" data-reactid=\"130\">3,331,401</span></td></tr></tbody></table>"
      ]
     },
     "execution_count": 8,
     "metadata": {},
     "output_type": "execute_result"
    }
   ],
   "source": [
    "table1"
   ]
  },
  {
   "cell_type": "code",
   "execution_count": null,
   "id": "documentary-amber",
   "metadata": {},
   "outputs": [],
   "source": []
  },
  {
   "cell_type": "code",
   "execution_count": 11,
   "id": "removed-cocktail",
   "metadata": {},
   "outputs": [
    {
     "name": "stdout",
     "output_type": "stream",
     "text": [
      "['Previous Close', 'Open', 'Bid', 'Ask', \"Day's Range\", '52 Week Range', 'Volume', 'Avg. Volume']\n"
     ]
    }
   ],
   "source": [
    "# To get the fields from the first table\n",
    "\n",
    "Field1 = []\n",
    "\n",
    "for x in table1.find_all('td', {'class':'C($primaryColor) W(51%)'}):\n",
    "    summ = x.find('span').text\n",
    "    Field1.append(summ)\n",
    "    \n",
    "print(Field1)"
   ]
  },
  {
   "cell_type": "code",
   "execution_count": 12,
   "id": "dynamic-palestine",
   "metadata": {},
   "outputs": [
    {
     "name": "stdout",
     "output_type": "stream",
     "text": [
      "['588.55', '585.80', '591.04 x 1000', '592.31 x 1300', '583.14 - 591.79', '458.60 - 598.76', '2,684,005', '3,331,401']\n"
     ]
    }
   ],
   "source": [
    "# To get the values from the first table.\n",
    "\n",
    "Values1 = []\n",
    "\n",
    "for y in table1.find_all('td', {'class':'Ta(end) Fw(600) Lh(14px)'}):\n",
    "    Values1.append(y.text)\n",
    "    \n",
    "print(Values1)"
   ]
  },
  {
   "cell_type": "markdown",
   "id": "chinese-chuck",
   "metadata": {},
   "source": [
    "Scraping the second table, `table2`"
   ]
  },
  {
   "cell_type": "code",
   "execution_count": 13,
   "id": "discrete-shore",
   "metadata": {},
   "outputs": [],
   "source": [
    "table2 = soup.find_all('table', {'class':'W(100%)'})[1]"
   ]
  },
  {
   "cell_type": "code",
   "execution_count": 15,
   "id": "architectural-calculator",
   "metadata": {},
   "outputs": [
    {
     "name": "stdout",
     "output_type": "stream",
     "text": [
      "['Market Cap', 'Beta (5Y Monthly)', 'PE Ratio (TTM)', 'EPS (TTM)', 'Earnings Date', 'Forward Dividend & Yield', 'Ex-Dividend Date', '1y Target Est']\n"
     ]
    }
   ],
   "source": [
    "# Getting the second set of fields from the 2nd table.\n",
    "\n",
    "Field2 = []\n",
    "\n",
    "for x in table2.find_all('td', {'class','C($primaryColor) W(51%)'}):\n",
    "    sum2 = x.find('span').text\n",
    "    Field2.append(sum2)\n",
    "    \n",
    "print(Field2)"
   ]
  },
  {
   "cell_type": "code",
   "execution_count": 16,
   "id": "pending-campaign",
   "metadata": {},
   "outputs": [
    {
     "name": "stdout",
     "output_type": "stream",
     "text": [
      "['261.366B', '0.75', '61.19', '9.65', 'Oct 18, 2021 - Oct 22, 2021', 'N/A (N/A)', 'N/A', '611.49']\n"
     ]
    }
   ],
   "source": [
    "# Getting the 2nd set of values.\n",
    "\n",
    "Values2 = []\n",
    "\n",
    "for y in table2.find_all('td', {'class':'Ta(end) Fw(600) Lh(14px)'}):\n",
    "    data = y.text\n",
    "    Values2.append(data)\n",
    "    \n",
    "print(Values2)"
   ]
  },
  {
   "cell_type": "code",
   "execution_count": null,
   "id": "buried-yield",
   "metadata": {},
   "outputs": [],
   "source": []
  },
  {
   "cell_type": "markdown",
   "id": "dress-merit",
   "metadata": {},
   "source": [
    "We've extracted data from two different tables in the page, it is time to join the data together.\n",
    "Since they were stored in lists, it will be easy to join them!\n",
    "\n",
    "The Field1 and Field2 will be combined into one. Same for the Values1 and Values2."
   ]
  },
  {
   "cell_type": "code",
   "execution_count": 18,
   "id": "living-wisconsin",
   "metadata": {},
   "outputs": [
    {
     "name": "stdout",
     "output_type": "stream",
     "text": [
      "['Previous Close', 'Open', 'Bid', 'Ask', \"Day's Range\", '52 Week Range', 'Volume', 'Avg. Volume', 'Market Cap', 'Beta (5Y Monthly)', 'PE Ratio (TTM)', 'EPS (TTM)', 'Earnings Date', 'Forward Dividend & Yield', 'Ex-Dividend Date', '1y Target Est']\n"
     ]
    }
   ],
   "source": [
    "Field3 = Field1 + Field2\n",
    "\n",
    "print(Field3)"
   ]
  },
  {
   "cell_type": "code",
   "execution_count": 19,
   "id": "eligible-block",
   "metadata": {},
   "outputs": [
    {
     "name": "stdout",
     "output_type": "stream",
     "text": [
      "['588.55', '585.80', '591.04 x 1000', '592.31 x 1300', '583.14 - 591.79', '458.60 - 598.76', '2,684,005', '3,331,401', '261.366B', '0.75', '61.19', '9.65', 'Oct 18, 2021 - Oct 22, 2021', 'N/A (N/A)', 'N/A', '611.49']\n"
     ]
    }
   ],
   "source": [
    "Values3 = Values1 + Values2\n",
    "\n",
    "print(Values3)"
   ]
  },
  {
   "cell_type": "markdown",
   "id": "enabling-original",
   "metadata": {},
   "source": [
    "The next Step is to convert this combined lists into a pandas DataFrame!"
   ]
  },
  {
   "cell_type": "code",
   "execution_count": 20,
   "id": "higher-pulse",
   "metadata": {},
   "outputs": [],
   "source": [
    "df = pd.DataFrame()"
   ]
  },
  {
   "cell_type": "code",
   "execution_count": 21,
   "id": "severe-studio",
   "metadata": {},
   "outputs": [],
   "source": [
    "df['Fields'] = Field3"
   ]
  },
  {
   "cell_type": "code",
   "execution_count": 22,
   "id": "guilty-slovak",
   "metadata": {},
   "outputs": [],
   "source": [
    " df['Values'] = Values3"
   ]
  },
  {
   "cell_type": "code",
   "execution_count": 24,
   "id": "played-demographic",
   "metadata": {},
   "outputs": [
    {
     "data": {
      "text/html": [
       "<div>\n",
       "<style scoped>\n",
       "    .dataframe tbody tr th:only-of-type {\n",
       "        vertical-align: middle;\n",
       "    }\n",
       "\n",
       "    .dataframe tbody tr th {\n",
       "        vertical-align: top;\n",
       "    }\n",
       "\n",
       "    .dataframe thead th {\n",
       "        text-align: right;\n",
       "    }\n",
       "</style>\n",
       "<table border=\"1\" class=\"dataframe\">\n",
       "  <thead>\n",
       "    <tr style=\"text-align: right;\">\n",
       "      <th></th>\n",
       "      <th>Fields</th>\n",
       "      <th>Values</th>\n",
       "    </tr>\n",
       "  </thead>\n",
       "  <tbody>\n",
       "    <tr>\n",
       "      <th>0</th>\n",
       "      <td>Previous Close</td>\n",
       "      <td>588.55</td>\n",
       "    </tr>\n",
       "    <tr>\n",
       "      <th>1</th>\n",
       "      <td>Open</td>\n",
       "      <td>585.80</td>\n",
       "    </tr>\n",
       "    <tr>\n",
       "      <th>2</th>\n",
       "      <td>Bid</td>\n",
       "      <td>591.04 x 1000</td>\n",
       "    </tr>\n",
       "    <tr>\n",
       "      <th>3</th>\n",
       "      <td>Ask</td>\n",
       "      <td>592.31 x 1300</td>\n",
       "    </tr>\n",
       "    <tr>\n",
       "      <th>4</th>\n",
       "      <td>Day's Range</td>\n",
       "      <td>583.14 - 591.79</td>\n",
       "    </tr>\n",
       "    <tr>\n",
       "      <th>5</th>\n",
       "      <td>52 Week Range</td>\n",
       "      <td>458.60 - 598.76</td>\n",
       "    </tr>\n",
       "    <tr>\n",
       "      <th>6</th>\n",
       "      <td>Volume</td>\n",
       "      <td>2,684,005</td>\n",
       "    </tr>\n",
       "    <tr>\n",
       "      <th>7</th>\n",
       "      <td>Avg. Volume</td>\n",
       "      <td>3,331,401</td>\n",
       "    </tr>\n",
       "    <tr>\n",
       "      <th>8</th>\n",
       "      <td>Market Cap</td>\n",
       "      <td>261.366B</td>\n",
       "    </tr>\n",
       "    <tr>\n",
       "      <th>9</th>\n",
       "      <td>Beta (5Y Monthly)</td>\n",
       "      <td>0.75</td>\n",
       "    </tr>\n",
       "    <tr>\n",
       "      <th>10</th>\n",
       "      <td>PE Ratio (TTM)</td>\n",
       "      <td>61.19</td>\n",
       "    </tr>\n",
       "    <tr>\n",
       "      <th>11</th>\n",
       "      <td>EPS (TTM)</td>\n",
       "      <td>9.65</td>\n",
       "    </tr>\n",
       "    <tr>\n",
       "      <th>12</th>\n",
       "      <td>Earnings Date</td>\n",
       "      <td>Oct 18, 2021 - Oct 22, 2021</td>\n",
       "    </tr>\n",
       "    <tr>\n",
       "      <th>13</th>\n",
       "      <td>Forward Dividend &amp; Yield</td>\n",
       "      <td>N/A (N/A)</td>\n",
       "    </tr>\n",
       "    <tr>\n",
       "      <th>14</th>\n",
       "      <td>Ex-Dividend Date</td>\n",
       "      <td>N/A</td>\n",
       "    </tr>\n",
       "    <tr>\n",
       "      <th>15</th>\n",
       "      <td>1y Target Est</td>\n",
       "      <td>611.49</td>\n",
       "    </tr>\n",
       "  </tbody>\n",
       "</table>\n",
       "</div>"
      ],
      "text/plain": [
       "                      Fields                       Values\n",
       "0             Previous Close                       588.55\n",
       "1                       Open                       585.80\n",
       "2                        Bid                591.04 x 1000\n",
       "3                        Ask                592.31 x 1300\n",
       "4                Day's Range              583.14 - 591.79\n",
       "5              52 Week Range              458.60 - 598.76\n",
       "6                     Volume                    2,684,005\n",
       "7                Avg. Volume                    3,331,401\n",
       "8                 Market Cap                     261.366B\n",
       "9          Beta (5Y Monthly)                         0.75\n",
       "10            PE Ratio (TTM)                        61.19\n",
       "11                 EPS (TTM)                         9.65\n",
       "12             Earnings Date  Oct 18, 2021 - Oct 22, 2021\n",
       "13  Forward Dividend & Yield                    N/A (N/A)\n",
       "14          Ex-Dividend Date                          N/A\n",
       "15             1y Target Est                       611.49"
      ]
     },
     "execution_count": 24,
     "metadata": {},
     "output_type": "execute_result"
    }
   ],
   "source": [
    "df"
   ]
  },
  {
   "cell_type": "code",
   "execution_count": null,
   "id": "german-attraction",
   "metadata": {},
   "outputs": [],
   "source": []
  }
 ],
 "metadata": {
  "kernelspec": {
   "display_name": "Python 3",
   "language": "python",
   "name": "python3"
  },
  "language_info": {
   "codemirror_mode": {
    "name": "ipython",
    "version": 3
   },
   "file_extension": ".py",
   "mimetype": "text/x-python",
   "name": "python",
   "nbconvert_exporter": "python",
   "pygments_lexer": "ipython3",
   "version": "3.9.1"
  }
 },
 "nbformat": 4,
 "nbformat_minor": 5
}
